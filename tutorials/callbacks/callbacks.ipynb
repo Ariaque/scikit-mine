{
 "cells": [
  {
   "cell_type": "markdown",
   "metadata": {},
   "source": [
    "## Callback API demo\n",
    "\n",
    "In this demo we are going to use the callback API to **track some useful information while training** a SLIM miner\n",
    "\n",
    "We simply define custom python functions, and submit them to create an instance of `skmine.callbacks.CallBacks`."
   ]
  },
  {
   "cell_type": "code",
   "execution_count": 1,
   "metadata": {},
   "outputs": [],
   "source": [
    "import pandas as pd\n",
    "import numpy as np\n",
    "\n",
    "from skmine.callbacks import CallBacks\n",
    "from skmine.itemsets import SLIM\n",
    "from skmine.preprocessing import TransactionEncoder\n",
    "from skmine.datasets.fimi import fetch_mushroom"
   ]
  },
  {
   "cell_type": "code",
   "execution_count": 2,
   "metadata": {},
   "outputs": [],
   "source": [
    "mushroom = fetch_mushroom()"
   ]
  },
  {
   "cell_type": "code",
   "execution_count": 3,
   "metadata": {},
   "outputs": [
    {
     "data": {
      "text/html": [
       "<div>\n",
       "<style scoped>\n",
       "    .dataframe tbody tr th:only-of-type {\n",
       "        vertical-align: middle;\n",
       "    }\n",
       "\n",
       "    .dataframe tbody tr th {\n",
       "        vertical-align: top;\n",
       "    }\n",
       "\n",
       "    .dataframe thead th {\n",
       "        text-align: right;\n",
       "    }\n",
       "</style>\n",
       "<table border=\"1\" class=\"dataframe\">\n",
       "  <thead>\n",
       "    <tr style=\"text-align: right;\">\n",
       "      <th></th>\n",
       "      <th>3</th>\n",
       "      <th>4</th>\n",
       "      <th>5</th>\n",
       "      <th>6</th>\n",
       "      <th>7</th>\n",
       "      <th>8</th>\n",
       "      <th>9</th>\n",
       "      <th>10</th>\n",
       "    </tr>\n",
       "  </thead>\n",
       "  <tbody>\n",
       "    <tr>\n",
       "      <th>0</th>\n",
       "      <td>1</td>\n",
       "      <td>0</td>\n",
       "      <td>0</td>\n",
       "      <td>0</td>\n",
       "      <td>0</td>\n",
       "      <td>0</td>\n",
       "      <td>1</td>\n",
       "      <td>0</td>\n",
       "    </tr>\n",
       "    <tr>\n",
       "      <th>1</th>\n",
       "      <td>1</td>\n",
       "      <td>0</td>\n",
       "      <td>0</td>\n",
       "      <td>0</td>\n",
       "      <td>0</td>\n",
       "      <td>0</td>\n",
       "      <td>1</td>\n",
       "      <td>0</td>\n",
       "    </tr>\n",
       "    <tr>\n",
       "      <th>2</th>\n",
       "      <td>0</td>\n",
       "      <td>1</td>\n",
       "      <td>0</td>\n",
       "      <td>0</td>\n",
       "      <td>0</td>\n",
       "      <td>0</td>\n",
       "      <td>1</td>\n",
       "      <td>0</td>\n",
       "    </tr>\n",
       "    <tr>\n",
       "      <th>3</th>\n",
       "      <td>1</td>\n",
       "      <td>0</td>\n",
       "      <td>0</td>\n",
       "      <td>0</td>\n",
       "      <td>0</td>\n",
       "      <td>0</td>\n",
       "      <td>0</td>\n",
       "      <td>1</td>\n",
       "    </tr>\n",
       "    <tr>\n",
       "      <th>4</th>\n",
       "      <td>1</td>\n",
       "      <td>0</td>\n",
       "      <td>0</td>\n",
       "      <td>0</td>\n",
       "      <td>0</td>\n",
       "      <td>0</td>\n",
       "      <td>1</td>\n",
       "      <td>0</td>\n",
       "    </tr>\n",
       "    <tr>\n",
       "      <th>5</th>\n",
       "      <td>1</td>\n",
       "      <td>0</td>\n",
       "      <td>0</td>\n",
       "      <td>0</td>\n",
       "      <td>0</td>\n",
       "      <td>0</td>\n",
       "      <td>0</td>\n",
       "      <td>1</td>\n",
       "    </tr>\n",
       "  </tbody>\n",
       "</table>\n",
       "</div>"
      ],
      "text/plain": [
       "   3   4   5   6   7   8   9   10\n",
       "0   1   0   0   0   0   0   1   0\n",
       "1   1   0   0   0   0   0   1   0\n",
       "2   0   1   0   0   0   0   1   0\n",
       "3   1   0   0   0   0   0   0   1\n",
       "4   1   0   0   0   0   0   1   0\n",
       "5   1   0   0   0   0   0   0   1"
      ]
     },
     "execution_count": 3,
     "metadata": {},
     "output_type": "execute_result"
    }
   ],
   "source": [
    "te = TransactionEncoder()\n",
    "D = te.fit_transform(mushroom)\n",
    "D.loc[:5, :10]"
   ]
  },
  {
   "cell_type": "code",
   "execution_count": 4,
   "metadata": {},
   "outputs": [],
   "source": [
    "# set n_iter_no_change to a high value so learning takes longer\n",
    "slim = SLIM(n_iter_no_change=1000)"
   ]
  },
  {
   "cell_type": "markdown",
   "metadata": {},
   "source": [
    "-------------------\n",
    "\n",
    "### Define your own callbacks\n",
    "\n",
    "We define custom functions, that will take the result of the function they target as input. Those results will be ingested for later reuse\n",
    "\n",
    "Here we define two methods:\n",
    "\n",
    "1. `post_evaluate` is executed after `SLIM.evaluate`. It tracks sizes for both the data and the model\n",
    "2. `post_gen` is executed after `SLIM.generate_candidates`, and just records the size of the current batch of candidates"
   ]
  },
  {
   "cell_type": "code",
   "execution_count": 5,
   "metadata": {},
   "outputs": [],
   "source": [
    "sizes = list()\n",
    "candidate_sizes = list()\n",
    "\n",
    "def post_evaluate(data_size, model_size, *args):\n",
    "    sizes.append((data_size, model_size))\n",
    "\n",
    "def post_gen(candidates):\n",
    "    candidate_sizes.append(len(candidates))"
   ]
  },
  {
   "cell_type": "markdown",
   "metadata": {},
   "source": [
    "A `skmine.callbacks.CallBacks` is a collection of callbacks.\n",
    "\n",
    "It's a mapping between function names and their dedicated callbacks. When an instance of `skmine.callbacks.CallBacks` is called (`() operator`) on an object, it looks for internal methods and tries to attach the callbacks."
   ]
  },
  {
   "cell_type": "code",
   "execution_count": 6,
   "metadata": {},
   "outputs": [],
   "source": [
    "callbacks = CallBacks(evaluate=post_evaluate, generate_candidates=post_gen)\n",
    "\n",
    "callbacks(slim)"
   ]
  },
  {
   "cell_type": "code",
   "execution_count": 7,
   "metadata": {},
   "outputs": [
    {
     "name": "stdout",
     "output_type": "stream",
     "text": [
      "CPU times: user 2.46 s, sys: 9.85 ms, total: 2.47 s\n",
      "Wall time: 2.47 s\n"
     ]
    },
    {
     "data": {
      "text/html": [
       "<div>\n",
       "<style scoped>\n",
       "    .dataframe tbody tr th:only-of-type {\n",
       "        vertical-align: middle;\n",
       "    }\n",
       "\n",
       "    .dataframe tbody tr th {\n",
       "        vertical-align: top;\n",
       "    }\n",
       "\n",
       "    .dataframe thead th {\n",
       "        text-align: right;\n",
       "    }\n",
       "</style>\n",
       "<table border=\"1\" class=\"dataframe\">\n",
       "  <thead>\n",
       "    <tr style=\"text-align: right;\">\n",
       "      <th></th>\n",
       "      <th>usage</th>\n",
       "    </tr>\n",
       "  </thead>\n",
       "  <tbody>\n",
       "    <tr>\n",
       "      <th>(3, 10, 85, 86, 23, 90, 28, 93, 34, 99, 36, 39, 111, 116, 53, 56, 59, 63)</th>\n",
       "      <td>[917, 939, 1250, 1269, 1470, 1526, 1688, 1830,...</td>\n",
       "    </tr>\n",
       "    <tr>\n",
       "      <th>(3, 10, 85, 86, 23, 90, 28, 93, 98, 34, 36, 39, 111, 116, 53, 56, 59, 63)</th>\n",
       "      <td>[1229, 1545, 1600, 1808, 1838, 2021, 2039, 209...</td>\n",
       "    </tr>\n",
       "    <tr>\n",
       "      <th>(66, 3, 11, 16, 85, 86, 24, 90, 29, 34, 36, 101, 39, 110, 52, 117, 56, 61)</th>\n",
       "      <td>[2594, 2605, 2937, 3062, 3069, 3073, 3082, 316...</td>\n",
       "    </tr>\n",
       "    <tr>\n",
       "      <th>(66, 3, 11, 16, 85, 86, 24, 90, 29, 34, 36, 101, 39, 110, 116, 52, 56, 61)</th>\n",
       "      <td>[2536, 2766, 2990, 3187, 3239, 3277, 3284, 332...</td>\n",
       "    </tr>\n",
       "    <tr>\n",
       "      <th>(6, 10, 85, 86, 23, 90, 28, 93, 34, 36, 39, 111, 116, 53, 56, 59, 63)</th>\n",
       "      <td>[2033, 2077, 2121, 2185, 2208, 2242, 2256, 228...</td>\n",
       "    </tr>\n",
       "    <tr>\n",
       "      <th>...</th>\n",
       "      <td>...</td>\n",
       "    </tr>\n",
       "    <tr>\n",
       "      <th>(49)</th>\n",
       "      <td>[5153, 5376, 5477, 5526, 5548, 5571, 5593, 560...</td>\n",
       "    </tr>\n",
       "    <tr>\n",
       "      <th>(82)</th>\n",
       "      <td>[4494, 5131, 5154, 5162, 5239, 5241, 5259, 526...</td>\n",
       "    </tr>\n",
       "    <tr>\n",
       "      <th>(22)</th>\n",
       "      <td>[4326, 4898, 5284, 5302, 5351, 5430, 5497, 552...</td>\n",
       "    </tr>\n",
       "    <tr>\n",
       "      <th>(8)</th>\n",
       "      <td>[5126, 5508, 7401, 7706]</td>\n",
       "    </tr>\n",
       "    <tr>\n",
       "      <th>(12)</th>\n",
       "      <td>[5107, 5126, 5128, 5717]</td>\n",
       "    </tr>\n",
       "  </tbody>\n",
       "</table>\n",
       "<p>300 rows × 1 columns</p>\n",
       "</div>"
      ],
      "text/plain": [
       "<skmine.itemsets.slim.SLIM at 0x7f5a8f27bcc0>"
      ]
     },
     "execution_count": 7,
     "metadata": {},
     "output_type": "execute_result"
    }
   ],
   "source": [
    "%time slim.fit(D)"
   ]
  },
  {
   "cell_type": "markdown",
   "metadata": {},
   "source": [
    "### Inner view of MDL learning \n",
    "\n",
    "The plot below clearly shows **how SLIM performs compression**.\n",
    "\n",
    "While the blue curve represents the size of the data, \n",
    "red vertical lines emphasize the end of a batch of candidates.\n",
    "\n",
    "**We can clearly dinstinguish the beginning of a batch of candidates, where the learning curve is quite abrupt, from the end of a batch, where it reaches a plateau**."
   ]
  },
  {
   "cell_type": "code",
   "execution_count": 8,
   "metadata": {},
   "outputs": [
    {
     "data": {
      "image/png": "[encoded data removed]",
      "text/plain": [
       "<Figure size 432x288 with 1 Axes>"
      ]
     },
     "metadata": {
      "needs_background": "light"
     },
     "output_type": "display_data"
    }
   ],
   "source": [
    "df = pd.DataFrame(sizes, columns=['data_size', 'model_size'])\n",
    "ax = df.data_size.plot()\n",
    "for s in np.cumsum(candidate_sizes):\n",
    "    ax.axvline(s, color='r')"
   ]
  },
  {
   "cell_type": "markdown",
   "metadata": {},
   "source": [
    "------------------\n",
    "And here is how the model size goes up"
   ]
  },
  {
   "cell_type": "code",
   "execution_count": 9,
   "metadata": {},
   "outputs": [
    {
     "data": {
      "text/plain": [
       "<AxesSubplot:>"
      ]
     },
     "execution_count": 9,
     "metadata": {},
     "output_type": "execute_result"
    },
    {
     "data": {
      "image/png": "[encoded data removed]",
      "text/plain": [
       "<Figure size 432x288 with 1 Axes>"
      ]
     },
     "metadata": {
      "needs_background": "light"
     },
     "output_type": "display_data"
    }
   ],
   "source": [
    "df.model_size.plot()"
   ]
  }
 ],
 "metadata": {
  "kernelspec": {
   "display_name": "Python 3",
   "language": "python",
   "name": "python3"
  },
  "language_info": {
   "codemirror_mode": {
    "name": "ipython",
    "version": 3
   },
   "file_extension": ".py",
   "mimetype": "text/x-python",
   "name": "python",
   "nbconvert_exporter": "python",
   "pygments_lexer": "ipython3",
   "version": "3.6.10"
  }
 },
 "nbformat": 4,
 "nbformat_minor": 4
}
