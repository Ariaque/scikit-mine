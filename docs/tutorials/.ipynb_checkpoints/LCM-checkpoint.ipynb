{
 "cells": [
  {
   "cell_type": "markdown",
   "metadata": {},
   "source": [
    "## load datasets separately "
   ]
  },
  {
   "cell_type": "code",
   "execution_count": 10,
   "metadata": {},
   "outputs": [],
   "source": [
    "from skmine.datasets.fimi import fetch_chess\n",
    "from skmine.datasets.fimi import fetch_accidents\n",
    "from skmine.datasets.fimi import fetch_kosarak"
   ]
  },
  {
   "cell_type": "code",
   "execution_count": 11,
   "metadata": {
    "scrolled": true
   },
   "outputs": [
    {
     "data": {
      "text/plain": [
       "0    [1, 3, 5, 7, 9, 11, 13, 15, 17, 19]\n",
       "1    [1, 3, 5, 7, 9, 12, 13, 15, 17, 19]\n",
       "2    [1, 3, 5, 7, 9, 12, 13, 16, 17, 19]\n",
       "3    [1, 3, 5, 7, 9, 11, 13, 15, 17, 20]\n",
       "4    [1, 3, 5, 7, 9, 11, 13, 15, 17, 19]\n",
       "Name: chess, dtype: object"
      ]
     },
     "execution_count": 11,
     "metadata": {},
     "output_type": "execute_result"
    }
   ],
   "source": [
    "chess = fetch_chess()\n",
    "chess.str[:10].head()  # .str allow us to slice lists"
   ]
  },
  {
   "cell_type": "code",
   "execution_count": 12,
   "metadata": {},
   "outputs": [
    {
     "data": {
      "text/plain": [
       "0            [1, 2, 3, 4, 5, 6, 7, 8, 9, 10]\n",
       "1        [2, 5, 7, 8, 9, 10, 12, 13, 14, 15]\n",
       "2    [7, 10, 12, 13, 14, 15, 16, 17, 18, 20]\n",
       "3      [1, 5, 8, 10, 12, 14, 15, 16, 17, 18]\n",
       "4     [5, 8, 10, 12, 14, 15, 16, 17, 18, 21]\n",
       "Name: accidents, dtype: object"
      ]
     },
     "execution_count": 12,
     "metadata": {},
     "output_type": "execute_result"
    }
   ],
   "source": [
    "accidents = fetch_accidents()\n",
    "accidents.str[:10].head()"
   ]
  },
  {
   "cell_type": "code",
   "execution_count": 13,
   "metadata": {},
   "outputs": [
    {
     "name": "stdout",
     "output_type": "stream",
     "text": [
      "accidents.dat  chess.dat\r\n"
     ]
    }
   ],
   "source": [
    "! ls /home/radon/scikit_mine_data/"
   ]
  },
  {
   "cell_type": "markdown",
   "metadata": {},
   "source": [
    "## Describe those datasets"
   ]
  },
  {
   "cell_type": "code",
   "execution_count": 8,
   "metadata": {},
   "outputs": [],
   "source": [
    "from skmine.datasets.utils import describe_itemsets"
   ]
  },
  {
   "cell_type": "code",
   "execution_count": 14,
   "metadata": {},
   "outputs": [
    {
     "data": {
      "text/plain": [
       "{'nb_items': 75, 'avg_transaction_size': 37.0, 'nb_transactions': 3196}"
      ]
     },
     "execution_count": 14,
     "metadata": {},
     "output_type": "execute_result"
    }
   ],
   "source": [
    "describe_itemsets(chess)"
   ]
  },
  {
   "cell_type": "code",
   "execution_count": null,
   "metadata": {},
   "outputs": [],
   "source": []
  }
 ],
 "metadata": {
  "kernelspec": {
   "display_name": "Python 3",
   "language": "python",
   "name": "python3"
  },
  "language_info": {
   "codemirror_mode": {
    "name": "ipython",
    "version": 3
   },
   "file_extension": ".py",
   "mimetype": "text/x-python",
   "name": "python",
   "nbconvert_exporter": "python",
   "pygments_lexer": "ipython3",
   "version": "3.8.1"
  }
 },
 "nbformat": 4,
 "nbformat_minor": 4
}
