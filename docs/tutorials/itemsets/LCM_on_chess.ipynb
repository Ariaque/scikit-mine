{
 "cells": [
  {
   "cell_type": "markdown",
   "metadata": {},
   "source": [
    "### LCM\n",
    "#### LCM looks for closed itemset with respect to an input minimum support"
   ]
  },
  {
   "cell_type": "code",
   "execution_count": 2,
   "metadata": {},
   "outputs": [
    {
     "data": {
      "text/plain": [
       "0    [1, 3, 5, 7, 9, 11, 13, 15, 17, 19, 21, 23, 25...\n",
       "1    [1, 3, 5, 7, 9, 12, 13, 15, 17, 19, 21, 23, 25...\n",
       "2    [1, 3, 5, 7, 9, 12, 13, 16, 17, 19, 21, 23, 25...\n",
       "3    [1, 3, 5, 7, 9, 11, 13, 15, 17, 20, 21, 23, 25...\n",
       "4    [1, 3, 5, 7, 9, 11, 13, 15, 17, 19, 21, 23, 25...\n",
       "Name: chess, dtype: object"
      ]
     },
     "execution_count": 2,
     "metadata": {},
     "output_type": "execute_result"
    }
   ],
   "source": [
    "from skmine.datasets.fimi import fetch_chess\n",
    "chess = fetch_chess()\n",
    "chess.head()"
   ]
  },
  {
   "cell_type": "code",
   "execution_count": 3,
   "metadata": {},
   "outputs": [
    {
     "data": {
      "text/plain": [
       "(3196,)"
      ]
     },
     "execution_count": 3,
     "metadata": {},
     "output_type": "execute_result"
    }
   ],
   "source": [
    "chess.shape"
   ]
  },
  {
   "cell_type": "code",
   "execution_count": 4,
   "metadata": {},
   "outputs": [
    {
     "name": "stdout",
     "output_type": "stream",
     "text": [
      "CPU times: user 174 ms, sys: 33.1 ms, total: 207 ms\n",
      "Wall time: 12 s\n"
     ]
    }
   ],
   "source": [
    "from skmine.itemsets import LCM\n",
    "lcm = LCM(min_supp=2000, n_jobs=4)\n",
    "# minimum support of 2000, running on 4 processes\n",
    "%time patterns = lcm.fit_transform(chess)"
   ]
  },
  {
   "cell_type": "code",
   "execution_count": 5,
   "metadata": {},
   "outputs": [
    {
     "data": {
      "text/plain": [
       "(68967, 2)"
      ]
     },
     "execution_count": 5,
     "metadata": {},
     "output_type": "execute_result"
    }
   ],
   "source": [
    "patterns.shape"
   ]
  },
  {
   "cell_type": "code",
   "execution_count": 6,
   "metadata": {},
   "outputs": [
    {
     "data": {
      "text/html": [
       "<div>\n",
       "<style scoped>\n",
       "    .dataframe tbody tr th:only-of-type {\n",
       "        vertical-align: middle;\n",
       "    }\n",
       "\n",
       "    .dataframe tbody tr th {\n",
       "        vertical-align: top;\n",
       "    }\n",
       "\n",
       "    .dataframe thead th {\n",
       "        text-align: right;\n",
       "    }\n",
       "</style>\n",
       "<table border=\"1\" class=\"dataframe\">\n",
       "  <thead>\n",
       "    <tr style=\"text-align: right;\">\n",
       "      <th></th>\n",
       "      <th>itemset</th>\n",
       "      <th>support</th>\n",
       "    </tr>\n",
       "  </thead>\n",
       "  <tbody>\n",
       "    <tr>\n",
       "      <th>14</th>\n",
       "      <td>(25, 58, 17, 29)</td>\n",
       "      <td>2179</td>\n",
       "    </tr>\n",
       "    <tr>\n",
       "      <th>17</th>\n",
       "      <td>(3, 58, 17, 29)</td>\n",
       "      <td>2272</td>\n",
       "    </tr>\n",
       "    <tr>\n",
       "      <th>18</th>\n",
       "      <td>(25, 58, 3, 29)</td>\n",
       "      <td>2520</td>\n",
       "    </tr>\n",
       "    <tr>\n",
       "      <th>22</th>\n",
       "      <td>(25, 29, 58, 31)</td>\n",
       "      <td>2220</td>\n",
       "    </tr>\n",
       "    <tr>\n",
       "      <th>23</th>\n",
       "      <td>(29, 58, 3, 31)</td>\n",
       "      <td>2360</td>\n",
       "    </tr>\n",
       "    <tr>\n",
       "      <th>...</th>\n",
       "      <td>...</td>\n",
       "      <td>...</td>\n",
       "    </tr>\n",
       "    <tr>\n",
       "      <th>68958</th>\n",
       "      <td>(52, 54, 5, 40)</td>\n",
       "      <td>2034</td>\n",
       "    </tr>\n",
       "    <tr>\n",
       "      <th>68959</th>\n",
       "      <td>(29, 54, 5, 40, 52)</td>\n",
       "      <td>2027</td>\n",
       "    </tr>\n",
       "    <tr>\n",
       "      <th>68964</th>\n",
       "      <td>(70, 52, 40, 29)</td>\n",
       "      <td>2001</td>\n",
       "    </tr>\n",
       "    <tr>\n",
       "      <th>68965</th>\n",
       "      <td>(70, 58, 40, 29)</td>\n",
       "      <td>2006</td>\n",
       "    </tr>\n",
       "    <tr>\n",
       "      <th>68966</th>\n",
       "      <td>(29, 70, 58, 40, 52)</td>\n",
       "      <td>2000</td>\n",
       "    </tr>\n",
       "  </tbody>\n",
       "</table>\n",
       "<p>67716 rows × 2 columns</p>\n",
       "</div>"
      ],
      "text/plain": [
       "                    itemset support\n",
       "14         (25, 58, 17, 29)    2179\n",
       "17          (3, 58, 17, 29)    2272\n",
       "18          (25, 58, 3, 29)    2520\n",
       "22         (25, 29, 58, 31)    2220\n",
       "23          (29, 58, 3, 31)    2360\n",
       "...                     ...     ...\n",
       "68958       (52, 54, 5, 40)    2034\n",
       "68959   (29, 54, 5, 40, 52)    2027\n",
       "68964      (70, 52, 40, 29)    2001\n",
       "68965      (70, 58, 40, 29)    2006\n",
       "68966  (29, 70, 58, 40, 52)    2000\n",
       "\n",
       "[67716 rows x 2 columns]"
      ]
     },
     "execution_count": 6,
     "metadata": {},
     "output_type": "execute_result"
    }
   ],
   "source": [
    "patterns[patterns.itemset.map(len) > 3]\n",
    "# simple syntax for post hoc filtering"
   ]
  },
  {
   "cell_type": "markdown",
   "metadata": {},
   "source": [
    "------------\n",
    "`Note`\n",
    "\n",
    "Even when setting a very high minimum support threshold, we discovered more than 60K from only 3196 original transactions.\n",
    "This is a good illustration of the so-called **pattern explosion problem**"
   ]
  }
 ],
 "metadata": {
  "kernelspec": {
   "display_name": "Python 3",
   "language": "python",
   "name": "python3"
  },
  "language_info": {
   "codemirror_mode": {
    "name": "ipython",
    "version": 3
   },
   "file_extension": ".py",
   "mimetype": "text/x-python",
   "name": "python",
   "nbconvert_exporter": "python",
   "pygments_lexer": "ipython3",
   "version": "3.8.1"
  }
 },
 "nbformat": 4,
 "nbformat_minor": 4
}
