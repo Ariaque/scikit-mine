{
 "cells": [
  {
   "cell_type": "markdown",
   "metadata": {},
   "source": [
    "## SLIM for market basket analysis\n",
    "In this example, we are going to train a SLIM model on a transactional database\n",
    "\n",
    "SLIM uses the [Minimum Description Length](https://en.wikipedia.org/wiki/Minimum_description_length) principle\n",
    "to make pattern mining easier, as the resulting patterns will be a **lossless compression of the original data**\n",
    "\n",
    "You end up having less data to consider, and your life just gets easier"
   ]
  },
  {
   "cell_type": "code",
   "execution_count": 1,
   "metadata": {},
   "outputs": [],
   "source": [
    "import pandas as pd\n",
    "from skmine.itemsets import SLIM"
   ]
  },
  {
   "cell_type": "markdown",
   "metadata": {},
   "source": [
    "SLIM can be used to perform Market Basket Analysis\n",
    "\n",
    "Here we define a set of transactions containing items bought in a store"
   ]
  },
  {
   "cell_type": "code",
   "execution_count": 2,
   "metadata": {},
   "outputs": [
    {
     "data": {
      "text/plain": [
       "0             [bananas, milk]\n",
       "1    [milk, bananas, cookies]\n",
       "2      [cookies, butter, tea]\n",
       "3                       [tea]\n",
       "4        [milk, bananas, tea]\n",
       "dtype: object"
      ]
     },
     "execution_count": 2,
     "metadata": {},
     "output_type": "execute_result"
    }
   ],
   "source": [
    "D = [\n",
    "    ['bananas', 'milk'],\n",
    "    ['milk', 'bananas', 'cookies'],\n",
    "    ['cookies', 'butter', 'tea'],\n",
    "    ['tea'], \n",
    "    ['milk', 'bananas', 'tea'],\n",
    "]\n",
    "D = pd.Series(D)  # SLIM takes a pd.Series as input\n",
    "D"
   ]
  },
  {
   "cell_type": "code",
   "execution_count": 3,
   "metadata": {},
   "outputs": [
    {
     "data": {
      "text/plain": [
       "<skmine.itemsets.slim.SLIM at 0x7fd1719fd9b0>"
      ]
     },
     "execution_count": 3,
     "metadata": {},
     "output_type": "execute_result"
    }
   ],
   "source": [
    "slim = SLIM()\n",
    "slim.fit(D)"
   ]
  },
  {
   "cell_type": "code",
   "execution_count": 4,
   "metadata": {},
   "outputs": [
    {
     "data": {
      "text/plain": [
       "(cookies, bananas, milk)       [1]\n",
       "(cookies, butter, tea)         [2]\n",
       "(bananas, milk)             [0, 4]\n",
       "(tea)                       [3, 4]\n",
       "dtype: object"
      ]
     },
     "execution_count": 4,
     "metadata": {},
     "output_type": "execute_result"
    }
   ],
   "source": [
    "slim.get_codetable()"
   ]
  },
  {
   "cell_type": "markdown",
   "metadata": {},
   "source": [
    "----------\n",
    "What if a new user comes to the store and buy some items ?\n",
    "We add its shopping cart to the data, like so"
   ]
  },
  {
   "cell_type": "code",
   "execution_count": 5,
   "metadata": {},
   "outputs": [
    {
     "data": {
      "text/plain": [
       "0              [bananas, milk]\n",
       "1     [milk, bananas, cookies]\n",
       "2       [cookies, butter, tea]\n",
       "3                        [tea]\n",
       "4         [milk, bananas, tea]\n",
       "5    [jelly, bananas, cookies]\n",
       "dtype: object"
      ]
     },
     "execution_count": 5,
     "metadata": {},
     "output_type": "execute_result"
    }
   ],
   "source": [
    "D[len(D)] = ['jelly', 'bananas', 'cookies']\n",
    "D"
   ]
  },
  {
   "cell_type": "markdown",
   "metadata": {},
   "source": [
    "Just retraining SLIM will give us a freshly updated summary of our market baskets"
   ]
  },
  {
   "cell_type": "code",
   "execution_count": 6,
   "metadata": {},
   "outputs": [
    {
     "data": {
      "text/plain": [
       "(bananas, milk)              [0, 1, 4]\n",
       "(cookies)                          [1]\n",
       "(cookies, butter, tea)             [2]\n",
       "(tea)                           [3, 4]\n",
       "(jelly, cookies, bananas)          [5]\n",
       "dtype: object"
      ]
     },
     "execution_count": 6,
     "metadata": {},
     "output_type": "execute_result"
    }
   ],
   "source": [
    "SLIM().fit(D).get_codetable()"
   ]
  }
 ],
 "metadata": {
  "kernelspec": {
   "display_name": "Python 3.8.1 64-bit ('skmine': conda)",
   "language": "python",
   "name": "python38164bitskmineconda3789c8cb22f842768473342c0ee32d2f"
  },
  "language_info": {
   "codemirror_mode": {
    "name": "ipython",
    "version": 3
   },
   "file_extension": ".py",
   "mimetype": "text/x-python",
   "name": "python",
   "nbconvert_exporter": "python",
   "pygments_lexer": "ipython3",
   "version": "3.6.10"
  }
 },
 "nbformat": 4,
 "nbformat_minor": 4
}
