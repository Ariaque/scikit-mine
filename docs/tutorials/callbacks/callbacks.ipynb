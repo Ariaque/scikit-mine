{
 "cells": [
  {
   "cell_type": "markdown",
   "metadata": {},
   "source": [
    "## Callback API demo\n",
    "\n",
    "In this demo we are going to use the callback API to **track some useful information while training** a SLIM miner\n",
    "\n",
    "We simply define custom python functions, and submit them to create an instance of `skmine.callbacks.CallBacks`."
   ]
  },
  {
   "cell_type": "code",
   "execution_count": 1,
   "metadata": {},
   "outputs": [],
   "source": [
    "import pandas as pd\n",
    "import numpy as np\n",
    "\n",
    "from skmine.callbacks import CallBacks\n",
    "from skmine.itemsets import SLIM\n",
    "from skmine.preprocessing import TransactionEncoder\n",
    "from skmine.datasets.fimi import fetch_mushroom"
   ]
  },
  {
   "cell_type": "code",
   "execution_count": 2,
   "metadata": {},
   "outputs": [],
   "source": [
    "mushroom = fetch_mushroom()"
   ]
  },
  {
   "cell_type": "code",
   "execution_count": 3,
   "metadata": {},
   "outputs": [
    {
     "data": {
      "text/html": [
       "<div>\n",
       "<style scoped>\n",
       "    .dataframe tbody tr th:only-of-type {\n",
       "        vertical-align: middle;\n",
       "    }\n",
       "\n",
       "    .dataframe tbody tr th {\n",
       "        vertical-align: top;\n",
       "    }\n",
       "\n",
       "    .dataframe thead th {\n",
       "        text-align: right;\n",
       "    }\n",
       "</style>\n",
       "<table border=\"1\" class=\"dataframe\">\n",
       "  <thead>\n",
       "    <tr style=\"text-align: right;\">\n",
       "      <th></th>\n",
       "      <th>3</th>\n",
       "      <th>4</th>\n",
       "      <th>5</th>\n",
       "      <th>6</th>\n",
       "      <th>7</th>\n",
       "      <th>8</th>\n",
       "      <th>9</th>\n",
       "      <th>10</th>\n",
       "    </tr>\n",
       "  </thead>\n",
       "  <tbody>\n",
       "    <tr>\n",
       "      <th>0</th>\n",
       "      <td>True</td>\n",
       "      <td>False</td>\n",
       "      <td>False</td>\n",
       "      <td>False</td>\n",
       "      <td>False</td>\n",
       "      <td>False</td>\n",
       "      <td>True</td>\n",
       "      <td>False</td>\n",
       "    </tr>\n",
       "    <tr>\n",
       "      <th>1</th>\n",
       "      <td>True</td>\n",
       "      <td>False</td>\n",
       "      <td>False</td>\n",
       "      <td>False</td>\n",
       "      <td>False</td>\n",
       "      <td>False</td>\n",
       "      <td>True</td>\n",
       "      <td>False</td>\n",
       "    </tr>\n",
       "    <tr>\n",
       "      <th>2</th>\n",
       "      <td>False</td>\n",
       "      <td>True</td>\n",
       "      <td>False</td>\n",
       "      <td>False</td>\n",
       "      <td>False</td>\n",
       "      <td>False</td>\n",
       "      <td>True</td>\n",
       "      <td>False</td>\n",
       "    </tr>\n",
       "    <tr>\n",
       "      <th>3</th>\n",
       "      <td>True</td>\n",
       "      <td>False</td>\n",
       "      <td>False</td>\n",
       "      <td>False</td>\n",
       "      <td>False</td>\n",
       "      <td>False</td>\n",
       "      <td>False</td>\n",
       "      <td>True</td>\n",
       "    </tr>\n",
       "    <tr>\n",
       "      <th>4</th>\n",
       "      <td>True</td>\n",
       "      <td>False</td>\n",
       "      <td>False</td>\n",
       "      <td>False</td>\n",
       "      <td>False</td>\n",
       "      <td>False</td>\n",
       "      <td>True</td>\n",
       "      <td>False</td>\n",
       "    </tr>\n",
       "    <tr>\n",
       "      <th>5</th>\n",
       "      <td>True</td>\n",
       "      <td>False</td>\n",
       "      <td>False</td>\n",
       "      <td>False</td>\n",
       "      <td>False</td>\n",
       "      <td>False</td>\n",
       "      <td>False</td>\n",
       "      <td>True</td>\n",
       "    </tr>\n",
       "  </tbody>\n",
       "</table>\n",
       "</div>"
      ],
      "text/plain": [
       "      3      4      5      6      7      8      9      10\n",
       "0   True  False  False  False  False  False   True  False\n",
       "1   True  False  False  False  False  False   True  False\n",
       "2  False   True  False  False  False  False   True  False\n",
       "3   True  False  False  False  False  False  False   True\n",
       "4   True  False  False  False  False  False   True  False\n",
       "5   True  False  False  False  False  False  False   True"
      ]
     },
     "execution_count": 3,
     "metadata": {},
     "output_type": "execute_result"
    }
   ],
   "source": [
    "te = TransactionEncoder()\n",
    "D = te.fit_transform(mushroom)\n",
    "D.loc[:5, :10]"
   ]
  },
  {
   "cell_type": "code",
   "execution_count": 4,
   "metadata": {},
   "outputs": [],
   "source": [
    "# set n_iter_no_change to a high value so learning takes longer\n",
    "slim = SLIM(n_iter_no_change=1000)"
   ]
  },
  {
   "cell_type": "markdown",
   "metadata": {},
   "source": [
    "-------------------\n",
    "\n",
    "### Define your own callbacks\n",
    "\n",
    "We define custom functions, that will take the result of the function they target as input. Those results will be ingested for later reuse\n",
    "\n",
    "Here we define two methods:\n",
    "\n",
    "1. `post_evaluate` is executed after `SLIM.evaluate`. It tracks sizes for both the data and the model\n",
    "2. `post_gen` is executed after `SLIM.generate_candidates`, and just records the size of the current batch of candidates"
   ]
  },
  {
   "cell_type": "code",
   "execution_count": 5,
   "metadata": {},
   "outputs": [],
   "source": [
    "sizes = list()\n",
    "candidate_sizes = list()\n",
    "\n",
    "def post_evaluate(data_size, model_size, *args):\n",
    "    sizes.append((data_size, model_size))\n",
    "\n",
    "def post_gen(candidates):\n",
    "    candidate_sizes.append(len(candidates))"
   ]
  },
  {
   "cell_type": "markdown",
   "metadata": {},
   "source": [
    "A `skmine.callbacks.CallBacks` is a collection of callbacks.\n",
    "\n",
    "It's a mapping between function names and their dedicated callbacks. When an instance of `skmine.callbacks.CallBacks` is called (`() operator`) on an object, it looks for internal methods and tries to attach the callbacks."
   ]
  },
  {
   "cell_type": "code",
   "execution_count": 6,
   "metadata": {},
   "outputs": [],
   "source": [
    "callbacks = CallBacks(evaluate=post_evaluate, generate_candidates=post_gen)\n",
    "\n",
    "callbacks(slim)"
   ]
  },
  {
   "cell_type": "code",
   "execution_count": 7,
   "metadata": {},
   "outputs": [
    {
     "name": "stdout",
     "output_type": "stream",
     "text": [
      "CPU times: user 2.02 s, sys: 11.1 ms, total: 2.03 s\n",
      "Wall time: 2.03 s\n"
     ]
    },
    {
     "data": {
      "text/html": [
       "<div>\n",
       "<style scoped>\n",
       "    .dataframe tbody tr th:only-of-type {\n",
       "        vertical-align: middle;\n",
       "    }\n",
       "\n",
       "    .dataframe tbody tr th {\n",
       "        vertical-align: top;\n",
       "    }\n",
       "\n",
       "    .dataframe thead th {\n",
       "        text-align: right;\n",
       "    }\n",
       "</style>\n",
       "<table border=\"1\" class=\"dataframe\">\n",
       "  <thead>\n",
       "    <tr style=\"text-align: right;\">\n",
       "      <th></th>\n",
       "      <th>usage</th>\n",
       "    </tr>\n",
       "  </thead>\n",
       "  <tbody>\n",
       "    <tr>\n",
       "      <th>(3, 67, 76, 18, 85, 86, 24, 90, 93, 30, 34, 37, 38, 107, 116, 52, 56, 59, 63)</th>\n",
       "      <td>[2210, 2482, 2540, 2860, 3026, 3162, 3270, 329...</td>\n",
       "    </tr>\n",
       "    <tr>\n",
       "      <th>(3, 67, 76, 18, 85, 86, 24, 90, 93, 30, 34, 37, 38, 110, 52, 116, 56, 59, 63)</th>\n",
       "      <td>[2285, 2841, 3047, 3174, 3262, 3282, 3327, 337...</td>\n",
       "    </tr>\n",
       "    <tr>\n",
       "      <th>(34, 67, 36, 58, 102, 66, 38, 76, 13, 110, 48, 116, 85, 86, 53, 24, 90, 59, 94)</th>\n",
       "      <td>[5105, 5432, 5989, 6104, 6137, 6247, 6514, 660...</td>\n",
       "    </tr>\n",
       "    <tr>\n",
       "      <th>(35, 36, 90, 39, 88, 73, 9, 104, 13, 50, 83, 52, 85, 24, 58, 59, 28, 93, 63)</th>\n",
       "      <td>[6994, 6999, 7658, 7782, 7939, 7956, 8115, 8123]</td>\n",
       "    </tr>\n",
       "    <tr>\n",
       "      <th>(67, 4, 76, 85, 86, 23, 91, 28, 93, 34, 36, 103, 39, 110, 115, 52, 56, 59, 63)</th>\n",
       "      <td>[4106, 4843, 4882, 5255, 5317, 5376, 5423, 552...</td>\n",
       "    </tr>\n",
       "    <tr>\n",
       "      <th>...</th>\n",
       "      <td>...</td>\n",
       "    </tr>\n",
       "    <tr>\n",
       "      <th>(62)</th>\n",
       "      <td>[6967, 6970, 6984, 7195, 7292, 7449, 7533, 757...</td>\n",
       "    </tr>\n",
       "    <tr>\n",
       "      <th>(82)</th>\n",
       "      <td>[4494, 5131, 5154, 5162, 5239, 5241, 5259, 526...</td>\n",
       "    </tr>\n",
       "    <tr>\n",
       "      <th>(22)</th>\n",
       "      <td>[4326, 4898, 5284, 5302, 5351, 5430, 5497, 552...</td>\n",
       "    </tr>\n",
       "    <tr>\n",
       "      <th>(8)</th>\n",
       "      <td>[5126, 5508, 7401, 7706]</td>\n",
       "    </tr>\n",
       "    <tr>\n",
       "      <th>(12)</th>\n",
       "      <td>[5107, 5126, 5128, 5717]</td>\n",
       "    </tr>\n",
       "  </tbody>\n",
       "</table>\n",
       "<p>250 rows × 1 columns</p>\n",
       "</div>"
      ],
      "text/plain": [
       "<skmine.itemsets.slim.SLIM at 0x7fded4973978>"
      ]
     },
     "execution_count": 7,
     "metadata": {},
     "output_type": "execute_result"
    }
   ],
   "source": [
    "%time slim.fit(D)"
   ]
  },
  {
   "cell_type": "markdown",
   "metadata": {},
   "source": [
    "### Inner view of MDL learning \n",
    "\n",
    "The plot below clearly shows **how SLIM performs compression**.\n",
    "\n",
    "While the blue curve represents the size of the data, \n",
    "red vertical lines emphasize the end of a batch of candidates.\n",
    "\n",
    "**We can clearly dinstinguish the beginning of a batch of candidates, where the learning curve is quite abrupt, from the end of a batch, where it reaches a plateau**."
   ]
  },
  {
   "cell_type": "code",
   "execution_count": 8,
   "metadata": {},
   "outputs": [
    {
     "data": {
      "image/png": "[encoded data removed]",
      "text/plain": [
       "<Figure size 432x288 with 1 Axes>"
      ]
     },
     "metadata": {
      "needs_background": "light"
     },
     "output_type": "display_data"
    }
   ],
   "source": [
    "df = pd.DataFrame(sizes, columns=['data_size', 'model_size'])\n",
    "ax = df.data_size.plot()\n",
    "for s in np.cumsum(candidate_sizes):\n",
    "    ax.axvline(s, color='r')"
   ]
  },
  {
   "cell_type": "markdown",
   "metadata": {},
   "source": [
    "------------------\n",
    "And here is how the model size goes up"
   ]
  },
  {
   "cell_type": "code",
   "execution_count": 9,
   "metadata": {},
   "outputs": [
    {
     "data": {
      "text/plain": [
       "<AxesSubplot:>"
      ]
     },
     "execution_count": 9,
     "metadata": {},
     "output_type": "execute_result"
    },
    {
     "data": {
      "image/png": "[encoded data removed]",
      "text/plain": [
       "<Figure size 432x288 with 1 Axes>"
      ]
     },
     "metadata": {
      "needs_background": "light"
     },
     "output_type": "display_data"
    }
   ],
   "source": [
    "df.model_size.plot()"
   ]
  }
 ],
 "metadata": {
  "kernelspec": {
   "display_name": "Python 3",
   "language": "python",
   "name": "python3"
  },
  "language_info": {
   "codemirror_mode": {
    "name": "ipython",
    "version": 3
   },
   "file_extension": ".py",
   "mimetype": "text/x-python",
   "name": "python",
   "nbconvert_exporter": "python",
   "pygments_lexer": "ipython3",
   "version": "3.6.10"
  }
 },
 "nbformat": 4,
 "nbformat_minor": 4
}
